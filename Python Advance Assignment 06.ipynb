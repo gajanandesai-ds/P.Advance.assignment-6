{
 "cells": [
  {
   "cell_type": "raw",
   "id": "2e66b626",
   "metadata": {},
   "source": [
    "Q1. Describe three applications for exception processing."
   ]
  },
  {
   "cell_type": "raw",
   "id": "943a4f85",
   "metadata": {},
   "source": [
    "ans: Python provides the number of built-in exceptions, but here we are describing the common standard exceptions.A list of common exceptions that can be thrown from a standard python program is given below.\n",
    "\n",
    ">>>Zero Division Error: Occurs when a number is divided by zero.\n",
    ">>>Name Error:It occurs when a name is not found. It may be local or global.\n",
    ">>>IndentaionError: If incorrect indentation is given\n",
    ">>>IOError: it occurs when input output operation fails.\n",
    ">>>EoError: It occurs when the end end of the file is reached, and yet operations are being performed."
   ]
  },
  {
   "cell_type": "code",
   "execution_count": 2,
   "id": "ebb6ce51",
   "metadata": {},
   "outputs": [
    {
     "name": "stdout",
     "output_type": "stream",
     "text": [
      "enter a:10\n",
      "enter b:5\n",
      "a/b = %d 2.0\n",
      "hi i am else block\n",
      "hi am finally block\n"
     ]
    }
   ],
   "source": [
    "try:\n",
    "    a=int(input(\"enter a:\"))\n",
    "    b=int(input(\"enter b:\"))\n",
    "    c= a/b\n",
    "    print(\"a/b = %d\",c)\n",
    "    \n",
    "    \n",
    "except Exception as e:\n",
    "    print(\"can't divide by zero\")\n",
    "    print(e)\n",
    "else:\n",
    "    print(\"hi i am else block\")\n",
    "finally:\n",
    "    print(\"hi am finally block\")\n"
   ]
  },
  {
   "cell_type": "code",
   "execution_count": null,
   "id": "5e0fecb9",
   "metadata": {},
   "outputs": [],
   "source": []
  },
  {
   "cell_type": "code",
   "execution_count": null,
   "id": "9dae10be",
   "metadata": {},
   "outputs": [],
   "source": []
  },
  {
   "cell_type": "raw",
   "id": "1850ce06",
   "metadata": {},
   "source": [
    "Q2. What happens if you don't do something extra to treat an exception?"
   ]
  },
  {
   "cell_type": "raw",
   "id": "c01ad37b",
   "metadata": {},
   "source": [
    "ans: when an exception occurred if you dont handle it, the program terminates abrutly and the code past the line that caused the exception will not get executed. because of not handling exceptions while deployment of end products users can face issues at their end while the product."
   ]
  },
  {
   "cell_type": "code",
   "execution_count": null,
   "id": "a4d36f30",
   "metadata": {},
   "outputs": [],
   "source": []
  },
  {
   "cell_type": "code",
   "execution_count": null,
   "id": "c25f453e",
   "metadata": {},
   "outputs": [],
   "source": []
  },
  {
   "cell_type": "code",
   "execution_count": null,
   "id": "e1e98b83",
   "metadata": {},
   "outputs": [],
   "source": []
  },
  {
   "cell_type": "raw",
   "id": "8ea19cb7",
   "metadata": {},
   "source": [
    "Q3. What are your options for recovering from an exception in your script?"
   ]
  },
  {
   "cell_type": "raw",
   "id": "3da098a3",
   "metadata": {},
   "source": [
    "ans:Eception handling and logging the  exceptions are basic ideas that a programmer should follow. Also writing the code in modular fashion helps in easily finding the error in end products and logging make it easier for delopers to reslove the issue at their end."
   ]
  },
  {
   "cell_type": "code",
   "execution_count": null,
   "id": "ab898d52",
   "metadata": {},
   "outputs": [],
   "source": []
  },
  {
   "cell_type": "code",
   "execution_count": null,
   "id": "aa79e496",
   "metadata": {},
   "outputs": [],
   "source": []
  },
  {
   "cell_type": "raw",
   "id": "98e7a0cc",
   "metadata": {},
   "source": [
    "Q4. Describe two methods for triggering exceptions in your script."
   ]
  },
  {
   "cell_type": "raw",
   "id": "3c96ee64",
   "metadata": {},
   "source": [
    "ans: An unhsndled excepttion displys an error message and  the program suddenly crashes. To avoid such a scenario, there are two methods to handle python  exception:\n",
    "\n",
    "Try: This method catches the exception raised by the program\n",
    "raise: Triggers an exception manually using custom exceptions."
   ]
  },
  {
   "cell_type": "code",
   "execution_count": null,
   "id": "6c2f636b",
   "metadata": {},
   "outputs": [],
   "source": []
  },
  {
   "cell_type": "code",
   "execution_count": null,
   "id": "c8e079cc",
   "metadata": {},
   "outputs": [],
   "source": []
  },
  {
   "cell_type": "raw",
   "id": "fe741290",
   "metadata": {},
   "source": [
    "Q5. Identify two methods for specifying actions to be executed at termination time, regardless of\n",
    "whether or not an exception exists."
   ]
  },
  {
   "cell_type": "raw",
   "id": "61ea72c6",
   "metadata": {},
   "source": [
    "ans: These methods are finally and else a simple example using them is shown above."
   ]
  },
  {
   "cell_type": "code",
   "execution_count": null,
   "id": "10d0c4a1",
   "metadata": {},
   "outputs": [],
   "source": []
  },
  {
   "cell_type": "code",
   "execution_count": null,
   "id": "6baca71d",
   "metadata": {},
   "outputs": [],
   "source": []
  },
  {
   "cell_type": "code",
   "execution_count": null,
   "id": "54859038",
   "metadata": {},
   "outputs": [],
   "source": []
  }
 ],
 "metadata": {
  "kernelspec": {
   "display_name": "Python 3",
   "language": "python",
   "name": "python3"
  },
  "language_info": {
   "codemirror_mode": {
    "name": "ipython",
    "version": 3
   },
   "file_extension": ".py",
   "mimetype": "text/x-python",
   "name": "python",
   "nbconvert_exporter": "python",
   "pygments_lexer": "ipython3",
   "version": "3.8.8"
  }
 },
 "nbformat": 4,
 "nbformat_minor": 5
}
